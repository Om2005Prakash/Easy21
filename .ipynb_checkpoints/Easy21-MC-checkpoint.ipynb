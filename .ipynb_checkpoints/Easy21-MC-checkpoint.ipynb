{
 "cells": [
  {
   "cell_type": "markdown",
   "id": "a6ac611f",
   "metadata": {},
   "source": [
    "Monte-Carlo Controller"
   ]
  },
  {
   "cell_type": "code",
   "execution_count": 1,
   "id": "85096c57",
   "metadata": {},
   "outputs": [],
   "source": [
    "import numpy as np\n",
    "import matplotlib.pyplot as plt\n",
    "from env import draw_card, step, get_action, cards\n",
    "from matplotlib import cm\n",
    "from tqdm import trange"
   ]
  },
  {
   "cell_type": "markdown",
   "id": "291d1e90",
   "metadata": {},
   "source": [
    "On Policy Monte Carlo"
   ]
  },
  {
   "cell_type": "code",
   "execution_count": 2,
   "id": "c8e08d6b",
   "metadata": {},
   "outputs": [],
   "source": [
    "Q = np.zeros((21, 10, 2))\n",
    "N = np.zeros((21, 10, 2))"
   ]
  },
  {
   "cell_type": "code",
   "execution_count": 3,
   "id": "0bc251ee",
   "metadata": {},
   "outputs": [],
   "source": [
    "def MC(ep):\n",
    "    global Q\n",
    "    global N\n",
    "    n0 = 100\n",
    "    for j in trange(ep):\n",
    "        ep_s = []\n",
    "        ep_a = []\n",
    "        ep_r = []\n",
    "\n",
    "        curr = (np.random.choice(cards), np.random.choice(cards))\n",
    "        t = 0\n",
    "        \n",
    "        while t == 0:\n",
    "            act = get_action(curr[1] - 1, curr[0] - 1, n0, Q, N)\n",
    "            ep_s.append(curr)\n",
    "            ep_a.append(act)\n",
    "            curr, rew, t = step(curr, act)\n",
    "            ep_r.append(rew)\n",
    "\n",
    "        for i in range(-1, -1*len(ep_s) - 1, -1):\n",
    "            curr = ep_s[i]\n",
    "            act = ep_a[i]\n",
    "            N[curr[1]-1][curr[0] -1][act] += 1\n",
    "            a = 1/(N[curr[1]-1][curr[0] -1][act])\n",
    "            Q[curr[1]-1][curr[0] -1][act] += a*(ep_r[-1] - Q[curr[1]-1][curr[0] -1][act])"
   ]
  },
  {
   "cell_type": "code",
   "execution_count": 4,
   "id": "0d3bf653-6f10-4ccc-b575-99dde580757e",
   "metadata": {},
   "outputs": [
    {
     "name": "stderr",
     "output_type": "stream",
     "text": [
      " 37%|█████████████████▏                            | 745174/2000000 [00:16<00:28, 44048.76it/s]\n"
     ]
    },
    {
     "ename": "KeyboardInterrupt",
     "evalue": "",
     "output_type": "error",
     "traceback": [
      "\u001b[0;31m---------------------------------------------------------------------------\u001b[0m",
      "\u001b[0;31mKeyboardInterrupt\u001b[0m                         Traceback (most recent call last)",
      "Cell \u001b[0;32mIn[4], line 1\u001b[0m\n\u001b[0;32m----> 1\u001b[0m \u001b[43mMC\u001b[49m\u001b[43m(\u001b[49m\u001b[38;5;241;43m20_00_000\u001b[39;49m\u001b[43m)\u001b[49m\n",
      "Cell \u001b[0;32mIn[3], line 10\u001b[0m, in \u001b[0;36mMC\u001b[0;34m(ep)\u001b[0m\n\u001b[1;32m      7\u001b[0m ep_a \u001b[38;5;241m=\u001b[39m []\n\u001b[1;32m      8\u001b[0m ep_r \u001b[38;5;241m=\u001b[39m []\n\u001b[0;32m---> 10\u001b[0m curr \u001b[38;5;241m=\u001b[39m (\u001b[43mnp\u001b[49m\u001b[38;5;241;43m.\u001b[39;49m\u001b[43mrandom\u001b[49m\u001b[38;5;241;43m.\u001b[39;49m\u001b[43mchoice\u001b[49m\u001b[43m(\u001b[49m\u001b[43mcards\u001b[49m\u001b[43m)\u001b[49m, np\u001b[38;5;241m.\u001b[39mrandom\u001b[38;5;241m.\u001b[39mchoice(cards))\n\u001b[1;32m     11\u001b[0m t \u001b[38;5;241m=\u001b[39m \u001b[38;5;241m0\u001b[39m\n\u001b[1;32m     13\u001b[0m \u001b[38;5;28;01mwhile\u001b[39;00m t \u001b[38;5;241m==\u001b[39m \u001b[38;5;241m0\u001b[39m:\n",
      "File \u001b[0;32mnumpy/random/mtrand.pyx:998\u001b[0m, in \u001b[0;36mnumpy.random.mtrand.RandomState.choice\u001b[0;34m()\u001b[0m\n",
      "File \u001b[0;32mnumpy/random/mtrand.pyx:782\u001b[0m, in \u001b[0;36mnumpy.random.mtrand.RandomState.randint\u001b[0;34m()\u001b[0m\n",
      "File \u001b[0;32mnumpy/random/_bounded_integers.pyx:1315\u001b[0m, in \u001b[0;36mnumpy.random._bounded_integers._rand_int64\u001b[0;34m()\u001b[0m\n",
      "File \u001b[0;32m~/miniconda3/envs/om/lib/python3.9/site-packages/numpy/core/fromnumeric.py:2974\u001b[0m, in \u001b[0;36m_prod_dispatcher\u001b[0;34m(a, axis, dtype, out, keepdims, initial, where)\u001b[0m\n\u001b[1;32m   2960\u001b[0m \u001b[38;5;250m    \u001b[39m\u001b[38;5;124;03m\"\"\"\u001b[39;00m\n\u001b[1;32m   2961\u001b[0m \u001b[38;5;124;03m    Return the minimum of an array or minimum along an axis.\u001b[39;00m\n\u001b[1;32m   2962\u001b[0m \n\u001b[0;32m   (...)\u001b[0m\n\u001b[1;32m   2968\u001b[0m \u001b[38;5;124;03m    ndarray.min : equivalent method\u001b[39;00m\n\u001b[1;32m   2969\u001b[0m \u001b[38;5;124;03m    \"\"\"\u001b[39;00m\n\u001b[1;32m   2970\u001b[0m     \u001b[38;5;28;01mreturn\u001b[39;00m _wrapreduction(a, np\u001b[38;5;241m.\u001b[39mminimum, \u001b[38;5;124m'\u001b[39m\u001b[38;5;124mmin\u001b[39m\u001b[38;5;124m'\u001b[39m, axis, \u001b[38;5;28;01mNone\u001b[39;00m, out,\n\u001b[1;32m   2971\u001b[0m                           keepdims\u001b[38;5;241m=\u001b[39mkeepdims, initial\u001b[38;5;241m=\u001b[39minitial, where\u001b[38;5;241m=\u001b[39mwhere)\n\u001b[0;32m-> 2974\u001b[0m \u001b[38;5;28;01mdef\u001b[39;00m \u001b[38;5;21m_prod_dispatcher\u001b[39m(a, axis\u001b[38;5;241m=\u001b[39m\u001b[38;5;28;01mNone\u001b[39;00m, dtype\u001b[38;5;241m=\u001b[39m\u001b[38;5;28;01mNone\u001b[39;00m, out\u001b[38;5;241m=\u001b[39m\u001b[38;5;28;01mNone\u001b[39;00m, keepdims\u001b[38;5;241m=\u001b[39m\u001b[38;5;28;01mNone\u001b[39;00m,\n\u001b[1;32m   2975\u001b[0m                      initial\u001b[38;5;241m=\u001b[39m\u001b[38;5;28;01mNone\u001b[39;00m, where\u001b[38;5;241m=\u001b[39m\u001b[38;5;28;01mNone\u001b[39;00m):\n\u001b[1;32m   2976\u001b[0m     \u001b[38;5;28;01mreturn\u001b[39;00m (a, out)\n\u001b[1;32m   2979\u001b[0m \u001b[38;5;129m@array_function_dispatch\u001b[39m(_prod_dispatcher)\n\u001b[1;32m   2980\u001b[0m \u001b[38;5;28;01mdef\u001b[39;00m \u001b[38;5;21mprod\u001b[39m(a, axis\u001b[38;5;241m=\u001b[39m\u001b[38;5;28;01mNone\u001b[39;00m, dtype\u001b[38;5;241m=\u001b[39m\u001b[38;5;28;01mNone\u001b[39;00m, out\u001b[38;5;241m=\u001b[39m\u001b[38;5;28;01mNone\u001b[39;00m, keepdims\u001b[38;5;241m=\u001b[39mnp\u001b[38;5;241m.\u001b[39m_NoValue,\n\u001b[1;32m   2981\u001b[0m          initial\u001b[38;5;241m=\u001b[39mnp\u001b[38;5;241m.\u001b[39m_NoValue, where\u001b[38;5;241m=\u001b[39mnp\u001b[38;5;241m.\u001b[39m_NoValue):\n",
      "\u001b[0;31mKeyboardInterrupt\u001b[0m: "
     ]
    }
   ],
   "source": [
    "MC(20_00_000)"
   ]
  },
  {
   "cell_type": "code",
   "execution_count": null,
   "id": "f3576ab4",
   "metadata": {
    "scrolled": true
   },
   "outputs": [],
   "source": [
    "%matplotlib ipympl\n",
    "V = np.zeros((21, 10))\n",
    "for j in range(21):\n",
    "    for i in range(10):\n",
    "        V[j][i] = np.max(Q[j][i])\n",
    "X, Y = np.meshgrid(range(10), range(21))\n",
    "fig = plt.figure(figsize=(6,4))\n",
    "ax = plt.axes(projection = '3d')\n",
    "surf = ax.plot_surface(X, Y, V, cmap=cm.jet, linewidth=0.1)\n",
    "fig.colorbar(surf, shrink=0.5, aspect=5)\n",
    "plt.title(f\"V {10_00_000} episodes\")\n",
    "plt.savefig(\"MC V 10_00_000 episodes\")\n",
    "plt.show()"
   ]
  },
  {
   "cell_type": "code",
   "execution_count": null,
   "id": "d7e4b0fa",
   "metadata": {},
   "outputs": [],
   "source": [
    "V = np.zeros((21, 10))\n",
    "for j in range(21):\n",
    "    for i in range(10):\n",
    "        V[j][i] = np.argmax(Q[j][i])\n",
    "X, Y = np.meshgrid(range(10), range(21))\n",
    "fig = plt.figure(figsize=(6,5))\n",
    "ax = plt.axes(projection = '3d')\n",
    "surf = ax.plot_surface(X, Y, V, cmap=cm.jet, linewidth=0.1)\n",
    "fig.colorbar(surf, shrink=0.5, aspect=5)\n",
    "plt.title(f\"Pi {10_00_000} episodes\")\n",
    "plt.savefig(\"MC Pi 10_00_000 episodes\")\n",
    "plt.show()"
   ]
  },
  {
   "cell_type": "code",
   "execution_count": null,
   "id": "d7141254",
   "metadata": {
    "scrolled": true
   },
   "outputs": [],
   "source": [
    "wins = 0\n",
    "for i in range(1_00_000):\n",
    "    n0 = 100\n",
    "    curr = (np.random.choice(cards), np.random.choice(cards))\n",
    "    act = get_action(curr[1] - 1, curr[0] - 1, n0, Q, N)\n",
    "    curr, rew, t = step(curr, act)\n",
    "    while t == 0:\n",
    "        act = get_action(curr[1] - 1, curr[0] - 1, n0, Q, N)\n",
    "        curr, rew, t = step(curr, act)\n",
    "    if rew >= 0:\n",
    "        wins += 1\n",
    "print(wins)"
   ]
  },
  {
   "cell_type": "code",
   "execution_count": null,
   "id": "8a15c39c",
   "metadata": {},
   "outputs": [],
   "source": [
    "np.save(\"Q_star_MC.npy\", Q)"
   ]
  }
 ],
 "metadata": {
  "kernelspec": {
   "display_name": "Python [conda env:om] *",
   "language": "python",
   "name": "conda-env-om-py"
  },
  "language_info": {
   "codemirror_mode": {
    "name": "ipython",
    "version": 3
   },
   "file_extension": ".py",
   "mimetype": "text/x-python",
   "name": "python",
   "nbconvert_exporter": "python",
   "pygments_lexer": "ipython3",
   "version": "3.9.19"
  }
 },
 "nbformat": 4,
 "nbformat_minor": 5
}
